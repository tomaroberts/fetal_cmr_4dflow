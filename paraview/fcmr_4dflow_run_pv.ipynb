{
 "cells": [
  {
   "cell_type": "code",
   "execution_count": 26,
   "metadata": {},
   "outputs": [
    {
     "name": "stdout",
     "output_type": "stream",
     "text": [
      "Running 4D Flow cine Paraview script ...\n",
      "Done ...\n"
     ]
    }
   ],
   "source": [
    "print(\"Running 4D Flow cine Paraview script ...\")\n",
    "\n",
    "pvpypath='C:\\\\Program Files\\\\ParaView 5.4.1-Qt5-OpenGL2-Windows-64bit\\\\bin\\\\pvpython.exe'\n",
    "\n",
    "import subprocess\n",
    "subprocess.call([pvpypath, 'C:\\\\Users\\\\tr17\\\\Documents\\\\CODE_Projects\\\\fetal_cmr_4dflow\\paraview\\\\fcmr_4dflow_make_vector_vol.py'])\n",
    "\n",
    "print(\"Done ...\")"
   ]
  },
  {
   "cell_type": "code",
   "execution_count": 23,
   "metadata": {},
   "outputs": [
    {
     "name": "stdout",
     "output_type": "stream",
     "text": [
      "C:\\Users\\tr17\\Documents\\Projects\\PC_Fetal_CMR\\Data\\fcmr201\\vel_vol_4d_trans\\paraview_polyCorr\\\n",
      "fcmr201_paraview.pvsm\n",
      "C:\\Users\\tr17\\Documents\\Projects\\PC_Fetal_CMR\\Data\\fcmr201\\vel_vol_4d_trans\\paraview_polyCorr\\fcmr201_paraview.pvsm\n"
     ]
    }
   ],
   "source": [
    "### TEST CELL\n",
    "\n",
    "\n",
    "fcmrNum = 201\n",
    "pvStateExt = ''\n",
    "velDir = '\\\\vel_vol_4d_trans'\n",
    "pvFold = '\\\\paraview_polyCorr' + '\\\\'\n",
    "\n",
    "fcmrDir = 'C:\\\\Users\\\\tr17\\\\Documents\\\\Projects\\\\PC_Fetal_CMR\\\\Data\\\\fcmr'\n",
    "path = fcmrDir + str(fcmrNum) + velDir + pvFold\n",
    "\n",
    "pvStateFilename = 'fcmr' + str(fcmrNum) + '_' + pvStateExt + 'paraview.pvsm'\n",
    "\n",
    "filenameCine = 'cine_vol_masked_t'\n",
    "filenameVelVol = 'vel_vol_masked_VxVy-Vz_t'\n",
    "numFrames = 25\n",
    "\n",
    "print(path)\n",
    "print(pvStateFilename)\n",
    "\n",
    "print(fcmrDir + str(fcmrNum) + velDir + pvFold + pvStateFilename)"
   ]
  }
 ],
 "metadata": {
  "kernelspec": {
   "display_name": "Python 3",
   "language": "python",
   "name": "python3"
  },
  "language_info": {
   "codemirror_mode": {
    "name": "ipython",
    "version": 3
   },
   "file_extension": ".py",
   "mimetype": "text/x-python",
   "name": "python",
   "nbconvert_exporter": "python",
   "pygments_lexer": "ipython3",
   "version": "3.6.5"
  }
 },
 "nbformat": 4,
 "nbformat_minor": 2
}
