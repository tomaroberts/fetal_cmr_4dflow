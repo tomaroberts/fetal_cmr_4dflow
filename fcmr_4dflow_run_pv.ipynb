{
 "cells": [
  {
   "cell_type": "code",
   "execution_count": 43,
   "metadata": {},
   "outputs": [
    {
     "name": "stdout",
     "output_type": "stream",
     "text": [
      "Done ...\n"
     ]
    }
   ],
   "source": [
    "pvpypath='C:\\\\Program Files\\\\ParaView 5.4.1-Qt5-OpenGL2-Windows-64bit\\\\bin\\\\pvpython.exe'\n",
    "\n",
    "import subprocess\n",
    "subprocess.call([pvpypath, 'C:\\\\Users\\\\tr17\\\\Documents\\\\CODE_Projects\\\\fetal_cmr_pc\\\\fcmr_4Dflow_make_vector_vol.py'])\n",
    "\n",
    "print(\"Done ...\")"
   ]
  }
 ],
 "metadata": {
  "kernelspec": {
   "display_name": "Python 3",
   "language": "python",
   "name": "python3"
  },
  "language_info": {
   "codemirror_mode": {
    "name": "ipython",
    "version": 3
   },
   "file_extension": ".py",
   "mimetype": "text/x-python",
   "name": "python",
   "nbconvert_exporter": "python",
   "pygments_lexer": "ipython3",
   "version": "3.6.5"
  }
 },
 "nbformat": 4,
 "nbformat_minor": 2
}
